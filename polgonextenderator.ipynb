{
 "cells": [
  {
   "cell_type": "code",
   "execution_count": 1,
   "metadata": {},
   "outputs": [],
   "source": [
    "import pandas as pd\n",
    "import geopandas as gpd\n",
    "from shapely.geometry import Point, MultiPoint, LineString, Polygon, MultiPolygon, MultiLineString\n",
    "import fiona\n",
    "from shapely.wkt import loads\n",
    "from collections import defaultdict\n",
    "from functools import reduce\n",
    "from shapely import ops\n",
    "from shapely.ops import split, snap, nearest_points, shared_paths\n",
    "from shapely.ops import linemerge, unary_union, polygonize, polygonize_full, cascaded_union\n",
    "from shapely.affinity import scale"
   ]
  },
  {
   "cell_type": "code",
   "execution_count": 2,
   "metadata": {},
   "outputs": [],
   "source": [
    "def explode_geometries(this_gdf):\n",
    "    this_exploded_geometries = this_gdf.explode().reset_index()#.rename(columns = {0: 'split_geometry'})\n",
    "    this_exploded_geometries_merged = this_exploded_geometries.merge(this_gdf.drop('geometry', axis=1), left_on='level_0', right_index=True)\n",
    "    this_exploded_geometries_merged = this_exploded_geometries_merged.drop('level_0', axis=1).drop('level_1', axis=1)\n",
    "    this_exploded_gdf = gpd.GeoDataFrame(this_exploded_geometries_merged, geometry=this_exploded_geometries_merged.geometry)\n",
    "    return this_exploded_gdf"
   ]
  },
  {
   "cell_type": "code",
   "execution_count": 3,
   "metadata": {},
   "outputs": [],
   "source": [
    "def cut_polygon_by_line(polygon, line):\n",
    "    scaled_line = scale(line, xfact=1.05, yfact=1.05, origin=line.centroid)\n",
    "    merged = linemerge([polygon.boundary, scaled_line])\n",
    "    borders = unary_union(merged)\n",
    "    split_polygons = polygonize(borders)\n",
    "    return list(filter(None, [str(s) for s in split_polygons]))"
   ]
  },
  {
   "cell_type": "code",
   "execution_count": 4,
   "metadata": {},
   "outputs": [],
   "source": [
    "def check_for_intersection(polygon, line):\n",
    "    if polygon.intersects(line) and all([sh.is_empty for sh in shared_paths(polygon.boundary, line)]):\n",
    "        return True"
   ]
  },
  {
   "cell_type": "code",
   "execution_count": 5,
   "metadata": {},
   "outputs": [],
   "source": [
    "uganda = gpd.read_file('./uganda.shp')"
   ]
  },
  {
   "cell_type": "code",
   "execution_count": 6,
   "metadata": {},
   "outputs": [],
   "source": [
    "admin3 = gpd.read_file('./uga_admbnda_adm3_UBOS_v5.shp')"
   ]
  },
  {
   "cell_type": "code",
   "execution_count": 7,
   "metadata": {
    "scrolled": true
   },
   "outputs": [],
   "source": [
    "admin3_clipped = gpd.overlay(admin3, uganda, how='intersection')\n",
    "#trim the admin boundary to the national border, but be wary of little slices left behind \n",
    "#that create multipolygons and will screw everything up later"
   ]
  },
  {
   "cell_type": "code",
   "execution_count": 8,
   "metadata": {},
   "outputs": [],
   "source": [
    "admin3_clipped_exploded = explode_geometries(admin3_clipped)"
   ]
  },
  {
   "cell_type": "code",
   "execution_count": 9,
   "metadata": {
    "scrolled": true
   },
   "outputs": [],
   "source": [
    "admin3_outer_boundary_out = admin3_clipped.dissolve(by='ADM0_EN')\n",
    "#dissolve to make a single poly for the whole country "
   ]
  },
  {
   "cell_type": "code",
   "execution_count": 10,
   "metadata": {
    "scrolled": true
   },
   "outputs": [],
   "source": [
    "admin3_outer_boundary_poly = ops.unary_union([Polygon(p.buffer(0).exterior) for p in admin3_outer_boundary_out['geometry']])\n",
    "# this eats any holes inside the primary outer boundary polygon"
   ]
  },
  {
   "cell_type": "code",
   "execution_count": 11,
   "metadata": {
    "scrolled": true
   },
   "outputs": [
    {
     "name": "stdout",
     "output_type": "stream",
     "text": [
      "checking  12274  admin3_outer_boundary_poly_coords\n"
     ]
    }
   ],
   "source": [
    "point_counter = defaultdict(int)\n",
    "admin3_outer_boundary_poly_coords = list(admin3_outer_boundary_poly.exterior.coords)\n",
    "admin3_outer_boundary_poly_coords_length = len(admin3_outer_boundary_poly_coords)\n",
    "\n",
    "print('checking ', admin3_outer_boundary_poly_coords_length, ' admin3_outer_boundary_poly_coords' )\n",
    "\n",
    "for eachpoint in [Point(p) for p in admin3_outer_boundary_poly_coords]:\n",
    "    for poly in admin3_clipped_exploded['geometry']:\n",
    "        if eachpoint.touches(poly):\n",
    "            eachpointpoly = eachpoint.buffer(.0000001, 8)\n",
    "            poly_coords = poly.exterior.coords\n",
    "            poly_coords_length = len(poly_coords)\n",
    "            polypoints = poly_coords\n",
    "            for prnt in polypoints:\n",
    "                if eachpointpoly.intersects(Point(prnt)):\n",
    "                    point_counter[str(eachpoint)] += 1"
   ]
  },
  {
   "cell_type": "code",
   "execution_count": 12,
   "metadata": {},
   "outputs": [],
   "source": [
    "for pc in list(point_counter):\n",
    "    if point_counter[pc] != 2:\n",
    "        del point_counter[pc]"
   ]
  },
  {
   "cell_type": "code",
   "execution_count": 13,
   "metadata": {},
   "outputs": [],
   "source": [
    "point_counter_df = pd.DataFrame( list(point_counter.items()), columns=['point', 'count']) #.to_csv('./max/point_counter.psv')"
   ]
  },
  {
   "cell_type": "code",
   "execution_count": 14,
   "metadata": {
    "scrolled": true
   },
   "outputs": [],
   "source": [
    "point_counter_gdf = gpd.GeoDataFrame(data=point_counter_df, geometry=[loads(p) for p in point_counter_df['point']], crs='EPSG:4326')"
   ]
  },
  {
   "cell_type": "code",
   "execution_count": 15,
   "metadata": {
    "scrolled": false
   },
   "outputs": [],
   "source": [
    "line_splitter_list = list()\n",
    "\n",
    "for pointy in point_counter_gdf['point']:\n",
    "    pointy = loads(pointy)\n",
    "    closest1, closest2 = nearest_points(pointy, uganda['geometry'].iloc[0].exterior)\n",
    "    # exterior!  these are all points inside a polygon, so i kept getting the input as BOTH \n",
    "    # output closest points. :/ we're trying to hit the outer edge, so we need exterior\n",
    "    # took me ~2 hours to figure that out\n",
    "\n",
    "    point_list = [closest1, closest2]\n",
    "    split_line = LineString(point_list)\n",
    "    split_line = scale(split_line, xfact=1.25, yfact=1.25, origin=split_line.centroid)\n",
    "    if split_line.length > 0.0000001:\n",
    "        line_splitter_list.append(split_line)"
   ]
  },
  {
   "cell_type": "code",
   "execution_count": 16,
   "metadata": {},
   "outputs": [],
   "source": [
    "line_splitter_gdf = gpd.GeoDataFrame(pd.DataFrame(), geometry=line_splitter_list, crs={'init': 'epsg:4326'})"
   ]
  },
  {
   "cell_type": "code",
   "execution_count": 17,
   "metadata": {},
   "outputs": [],
   "source": [
    "admin3_outer_boundary_gdf = gpd.GeoDataFrame(pd.DataFrame(), geometry=[admin3_outer_boundary_poly], crs={'init': 'epsg:4326'})"
   ]
  },
  {
   "cell_type": "code",
   "execution_count": 18,
   "metadata": {},
   "outputs": [],
   "source": [
    "holies_gdf = explode_geometries(gpd.overlay(uganda, admin3_outer_boundary_gdf, how='symmetric_difference'))"
   ]
  },
  {
   "cell_type": "code",
   "execution_count": 19,
   "metadata": {
    "scrolled": true
   },
   "outputs": [],
   "source": [
    "split_holes_list = list()\n",
    "for line in line_splitter_gdf['geometry']:\n",
    "    for hole in holies_gdf['geometry']:\n",
    "\n",
    "        if line.intersects(hole):\n",
    "            split_holes_list.append(cut_polygon_by_line(hole, snap(line, hole, tolerance=.001)))"
   ]
  },
  {
   "cell_type": "code",
   "execution_count": 20,
   "metadata": {},
   "outputs": [],
   "source": [
    "split_list = list()\n",
    "for polys in split_holes_list:\n",
    "    for p in polys:\n",
    "        split_list.append(p)"
   ]
  },
  {
   "cell_type": "code",
   "execution_count": 21,
   "metadata": {
    "scrolled": true
   },
   "outputs": [],
   "source": [
    "split_list_gdf = gpd.GeoDataFrame(pd.DataFrame(), geometry=[loads(s) for s in split_list])\n",
    "split_list_gdf.to_file('./split_list.shp')"
   ]
  }
 ],
 "metadata": {
  "kernelspec": {
   "display_name": "Python 3",
   "language": "python",
   "name": "python3"
  },
  "language_info": {
   "codemirror_mode": {
    "name": "ipython",
    "version": 3
   },
   "file_extension": ".py",
   "mimetype": "text/x-python",
   "name": "python",
   "nbconvert_exporter": "python",
   "pygments_lexer": "ipython3",
   "version": "3.7.4"
  }
 },
 "nbformat": 4,
 "nbformat_minor": 2
}
